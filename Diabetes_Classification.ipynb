{
  "nbformat": 4,
  "nbformat_minor": 0,
  "metadata": {
    "colab": {
      "name": "Diabetes_Classification.ipynb",
      "provenance": [],
      "collapsed_sections": [],
      "authorship_tag": "ABX9TyMP+h8eRVhyGb7Pa4EGEGwV"
    },
    "kernelspec": {
      "name": "python3",
      "display_name": "Python 3"
    }
  },
  "cells": [
    {
      "cell_type": "markdown",
      "metadata": {
        "id": "Hr-cH-ShwNpB"
      },
      "source": [
        "## Import Libraries"
      ]
    },
    {
      "cell_type": "code",
      "metadata": {
        "id": "FWvxLWPyDP--"
      },
      "source": [
        "import pandas as pd\r\n",
        "import numpy as np\r\n",
        "import seaborn as sns\r\n",
        "import matplotlib.pyplot as plt\r\n",
        "import warnings\r\n",
        "%matplotlib inline\r\n",
        "warnings.filterwarnings('ignore')"
      ],
      "execution_count": 1,
      "outputs": []
    },
    {
      "cell_type": "code",
      "metadata": {
        "colab": {
          "base_uri": "https://localhost:8080/",
          "height": 235
        },
        "id": "ryHX0gRhDz15",
        "outputId": "75cac83f-e202-4e6c-90a1-1e7973428304"
      },
      "source": [
        "df = pd.read_csv('train.csv', index_col='p_id')\r\n",
        "df.head()"
      ],
      "execution_count": 2,
      "outputs": [
        {
          "output_type": "execute_result",
          "data": {
            "text/html": [
              "<div>\n",
              "<style scoped>\n",
              "    .dataframe tbody tr th:only-of-type {\n",
              "        vertical-align: middle;\n",
              "    }\n",
              "\n",
              "    .dataframe tbody tr th {\n",
              "        vertical-align: top;\n",
              "    }\n",
              "\n",
              "    .dataframe thead th {\n",
              "        text-align: right;\n",
              "    }\n",
              "</style>\n",
              "<table border=\"1\" class=\"dataframe\">\n",
              "  <thead>\n",
              "    <tr style=\"text-align: right;\">\n",
              "      <th></th>\n",
              "      <th>no_times_pregnant</th>\n",
              "      <th>glucose_concentration</th>\n",
              "      <th>blood_pressure</th>\n",
              "      <th>skin_fold_thickness</th>\n",
              "      <th>serum_insulin</th>\n",
              "      <th>bmi</th>\n",
              "      <th>diabetes pedigree</th>\n",
              "      <th>age</th>\n",
              "      <th>diabetes</th>\n",
              "    </tr>\n",
              "    <tr>\n",
              "      <th>p_id</th>\n",
              "      <th></th>\n",
              "      <th></th>\n",
              "      <th></th>\n",
              "      <th></th>\n",
              "      <th></th>\n",
              "      <th></th>\n",
              "      <th></th>\n",
              "      <th></th>\n",
              "      <th></th>\n",
              "    </tr>\n",
              "  </thead>\n",
              "  <tbody>\n",
              "    <tr>\n",
              "      <th>316</th>\n",
              "      <td>2</td>\n",
              "      <td>112</td>\n",
              "      <td>68</td>\n",
              "      <td>22</td>\n",
              "      <td>94</td>\n",
              "      <td>34.1</td>\n",
              "      <td>0.315</td>\n",
              "      <td>26</td>\n",
              "      <td>0</td>\n",
              "    </tr>\n",
              "    <tr>\n",
              "      <th>25</th>\n",
              "      <td>11</td>\n",
              "      <td>143</td>\n",
              "      <td>94</td>\n",
              "      <td>33</td>\n",
              "      <td>146</td>\n",
              "      <td>36.6</td>\n",
              "      <td>0.254</td>\n",
              "      <td>51</td>\n",
              "      <td>1</td>\n",
              "    </tr>\n",
              "    <tr>\n",
              "      <th>710</th>\n",
              "      <td>2</td>\n",
              "      <td>93</td>\n",
              "      <td>64</td>\n",
              "      <td>32</td>\n",
              "      <td>160</td>\n",
              "      <td>38.0</td>\n",
              "      <td>0.674</td>\n",
              "      <td>23</td>\n",
              "      <td>1</td>\n",
              "    </tr>\n",
              "    <tr>\n",
              "      <th>658</th>\n",
              "      <td>1</td>\n",
              "      <td>120</td>\n",
              "      <td>80</td>\n",
              "      <td>48</td>\n",
              "      <td>200</td>\n",
              "      <td>38.9</td>\n",
              "      <td>1.162</td>\n",
              "      <td>41</td>\n",
              "      <td>0</td>\n",
              "    </tr>\n",
              "    <tr>\n",
              "      <th>542</th>\n",
              "      <td>3</td>\n",
              "      <td>128</td>\n",
              "      <td>72</td>\n",
              "      <td>25</td>\n",
              "      <td>190</td>\n",
              "      <td>32.4</td>\n",
              "      <td>0.549</td>\n",
              "      <td>27</td>\n",
              "      <td>1</td>\n",
              "    </tr>\n",
              "  </tbody>\n",
              "</table>\n",
              "</div>"
            ],
            "text/plain": [
              "      no_times_pregnant  glucose_concentration  ...  age  diabetes\n",
              "p_id                                            ...               \n",
              "316                   2                    112  ...   26         0\n",
              "25                   11                    143  ...   51         1\n",
              "710                   2                     93  ...   23         1\n",
              "658                   1                    120  ...   41         0\n",
              "542                   3                    128  ...   27         1\n",
              "\n",
              "[5 rows x 9 columns]"
            ]
          },
          "metadata": {
            "tags": []
          },
          "execution_count": 2
        }
      ]
    },
    {
      "cell_type": "code",
      "metadata": {
        "colab": {
          "base_uri": "https://localhost:8080/"
        },
        "id": "d4EJAsVuD6QG",
        "outputId": "79f9d350-9b0c-41cd-ecf4-65119eaa5679"
      },
      "source": [
        "df.info()"
      ],
      "execution_count": 3,
      "outputs": [
        {
          "output_type": "stream",
          "text": [
            "<class 'pandas.core.frame.DataFrame'>\n",
            "Int64Index: 614 entries, 316 to 603\n",
            "Data columns (total 9 columns):\n",
            " #   Column                 Non-Null Count  Dtype  \n",
            "---  ------                 --------------  -----  \n",
            " 0   no_times_pregnant      614 non-null    int64  \n",
            " 1   glucose_concentration  614 non-null    int64  \n",
            " 2   blood_pressure         614 non-null    int64  \n",
            " 3   skin_fold_thickness    614 non-null    int64  \n",
            " 4   serum_insulin          614 non-null    int64  \n",
            " 5   bmi                    614 non-null    float64\n",
            " 6   diabetes pedigree      614 non-null    float64\n",
            " 7   age                    614 non-null    int64  \n",
            " 8   diabetes               614 non-null    int64  \n",
            "dtypes: float64(2), int64(7)\n",
            "memory usage: 48.0 KB\n"
          ],
          "name": "stdout"
        }
      ]
    },
    {
      "cell_type": "code",
      "metadata": {
        "colab": {
          "base_uri": "https://localhost:8080/"
        },
        "id": "Pfz1zrl4D9N3",
        "outputId": "cf451469-5524-43b4-c70b-0af08f5abb12"
      },
      "source": [
        "df.isnull().sum()"
      ],
      "execution_count": 4,
      "outputs": [
        {
          "output_type": "execute_result",
          "data": {
            "text/plain": [
              "no_times_pregnant        0\n",
              "glucose_concentration    0\n",
              "blood_pressure           0\n",
              "skin_fold_thickness      0\n",
              "serum_insulin            0\n",
              "bmi                      0\n",
              "diabetes pedigree        0\n",
              "age                      0\n",
              "diabetes                 0\n",
              "dtype: int64"
            ]
          },
          "metadata": {
            "tags": []
          },
          "execution_count": 4
        }
      ]
    },
    {
      "cell_type": "code",
      "metadata": {
        "colab": {
          "base_uri": "https://localhost:8080/",
          "height": 204
        },
        "id": "DIJpb702EBaD",
        "outputId": "64745454-dda9-40af-ba77-e7263da7ffae"
      },
      "source": [
        "df_test=pd.read_csv('test.csv')\r\n",
        "df_test.head()"
      ],
      "execution_count": 80,
      "outputs": [
        {
          "output_type": "execute_result",
          "data": {
            "text/html": [
              "<div>\n",
              "<style scoped>\n",
              "    .dataframe tbody tr th:only-of-type {\n",
              "        vertical-align: middle;\n",
              "    }\n",
              "\n",
              "    .dataframe tbody tr th {\n",
              "        vertical-align: top;\n",
              "    }\n",
              "\n",
              "    .dataframe thead th {\n",
              "        text-align: right;\n",
              "    }\n",
              "</style>\n",
              "<table border=\"1\" class=\"dataframe\">\n",
              "  <thead>\n",
              "    <tr style=\"text-align: right;\">\n",
              "      <th></th>\n",
              "      <th>p_id</th>\n",
              "      <th>no_times_pregnant</th>\n",
              "      <th>glucose_concentration</th>\n",
              "      <th>blood_pressure</th>\n",
              "      <th>skin_fold_thickness</th>\n",
              "      <th>serum_insulin</th>\n",
              "      <th>bmi</th>\n",
              "      <th>diabetes pedigree</th>\n",
              "      <th>age</th>\n",
              "    </tr>\n",
              "  </thead>\n",
              "  <tbody>\n",
              "    <tr>\n",
              "      <th>0</th>\n",
              "      <td>437</td>\n",
              "      <td>12</td>\n",
              "      <td>140</td>\n",
              "      <td>85</td>\n",
              "      <td>33</td>\n",
              "      <td>0</td>\n",
              "      <td>37.4</td>\n",
              "      <td>0.244</td>\n",
              "      <td>41</td>\n",
              "    </tr>\n",
              "    <tr>\n",
              "      <th>1</th>\n",
              "      <td>411</td>\n",
              "      <td>6</td>\n",
              "      <td>102</td>\n",
              "      <td>90</td>\n",
              "      <td>39</td>\n",
              "      <td>0</td>\n",
              "      <td>35.7</td>\n",
              "      <td>0.674</td>\n",
              "      <td>28</td>\n",
              "    </tr>\n",
              "    <tr>\n",
              "      <th>2</th>\n",
              "      <td>639</td>\n",
              "      <td>7</td>\n",
              "      <td>97</td>\n",
              "      <td>76</td>\n",
              "      <td>32</td>\n",
              "      <td>91</td>\n",
              "      <td>40.9</td>\n",
              "      <td>0.871</td>\n",
              "      <td>32</td>\n",
              "    </tr>\n",
              "    <tr>\n",
              "      <th>3</th>\n",
              "      <td>213</td>\n",
              "      <td>7</td>\n",
              "      <td>179</td>\n",
              "      <td>95</td>\n",
              "      <td>31</td>\n",
              "      <td>0</td>\n",
              "      <td>34.2</td>\n",
              "      <td>0.164</td>\n",
              "      <td>60</td>\n",
              "    </tr>\n",
              "    <tr>\n",
              "      <th>4</th>\n",
              "      <td>181</td>\n",
              "      <td>6</td>\n",
              "      <td>87</td>\n",
              "      <td>80</td>\n",
              "      <td>0</td>\n",
              "      <td>0</td>\n",
              "      <td>23.2</td>\n",
              "      <td>0.084</td>\n",
              "      <td>32</td>\n",
              "    </tr>\n",
              "  </tbody>\n",
              "</table>\n",
              "</div>"
            ],
            "text/plain": [
              "   p_id  no_times_pregnant  glucose_concentration  ...   bmi  diabetes pedigree  age\n",
              "0   437                 12                    140  ...  37.4              0.244   41\n",
              "1   411                  6                    102  ...  35.7              0.674   28\n",
              "2   639                  7                     97  ...  40.9              0.871   32\n",
              "3   213                  7                    179  ...  34.2              0.164   60\n",
              "4   181                  6                     87  ...  23.2              0.084   32\n",
              "\n",
              "[5 rows x 9 columns]"
            ]
          },
          "metadata": {
            "tags": []
          },
          "execution_count": 80
        }
      ]
    },
    {
      "cell_type": "code",
      "metadata": {
        "colab": {
          "base_uri": "https://localhost:8080/"
        },
        "id": "PQmT8tE-EO0c",
        "outputId": "bf81e6fa-d855-49fd-f384-5712273c1a9e"
      },
      "source": [
        "df_test.info()"
      ],
      "execution_count": 81,
      "outputs": [
        {
          "output_type": "stream",
          "text": [
            "<class 'pandas.core.frame.DataFrame'>\n",
            "RangeIndex: 154 entries, 0 to 153\n",
            "Data columns (total 9 columns):\n",
            " #   Column                 Non-Null Count  Dtype  \n",
            "---  ------                 --------------  -----  \n",
            " 0   p_id                   154 non-null    int64  \n",
            " 1   no_times_pregnant      154 non-null    int64  \n",
            " 2   glucose_concentration  154 non-null    int64  \n",
            " 3   blood_pressure         154 non-null    int64  \n",
            " 4   skin_fold_thickness    154 non-null    int64  \n",
            " 5   serum_insulin          154 non-null    int64  \n",
            " 6   bmi                    154 non-null    float64\n",
            " 7   diabetes pedigree      154 non-null    float64\n",
            " 8   age                    154 non-null    int64  \n",
            "dtypes: float64(2), int64(7)\n",
            "memory usage: 11.0 KB\n"
          ],
          "name": "stdout"
        }
      ]
    },
    {
      "cell_type": "code",
      "metadata": {
        "colab": {
          "base_uri": "https://localhost:8080/"
        },
        "id": "E-l2JvaOERZs",
        "outputId": "fe4f193f-45d0-45da-dd42-658b65a4e366"
      },
      "source": [
        "df_test.isnull().sum()"
      ],
      "execution_count": 82,
      "outputs": [
        {
          "output_type": "execute_result",
          "data": {
            "text/plain": [
              "p_id                     0\n",
              "no_times_pregnant        0\n",
              "glucose_concentration    0\n",
              "blood_pressure           0\n",
              "skin_fold_thickness      0\n",
              "serum_insulin            0\n",
              "bmi                      0\n",
              "diabetes pedigree        0\n",
              "age                      0\n",
              "dtype: int64"
            ]
          },
          "metadata": {
            "tags": []
          },
          "execution_count": 82
        }
      ]
    },
    {
      "cell_type": "code",
      "metadata": {
        "colab": {
          "base_uri": "https://localhost:8080/",
          "height": 606
        },
        "id": "HlVoNLGxEVkA",
        "outputId": "cb1d5dcd-9848-45a5-b13e-bc1141a7db3d"
      },
      "source": [
        "df_corr = df.corr()\r\n",
        "corr_feature = df_corr.index\r\n",
        "plt.figure(figsize=(10,8))\r\n",
        "sns.heatmap(df_corr[corr_feature], annot=True)"
      ],
      "execution_count": 83,
      "outputs": [
        {
          "output_type": "execute_result",
          "data": {
            "text/plain": [
              "<matplotlib.axes._subplots.AxesSubplot at 0x7f645551dc18>"
            ]
          },
          "metadata": {
            "tags": []
          },
          "execution_count": 83
        },
        {
          "output_type": "display_data",
          "data": {
            "image/png": "[encoded data removed]",
            "text/plain": [
              "<Figure size 720x576 with 2 Axes>"
            ]
          },
          "metadata": {
            "tags": [],
            "needs_background": "light"
          }
        }
      ]
    },
    {
      "cell_type": "code",
      "metadata": {
        "colab": {
          "base_uri": "https://localhost:8080/",
          "height": 760
        },
        "id": "JFbwAVnQElzp",
        "outputId": "3846a328-f661-43e2-ca1b-1887582286da"
      },
      "source": [
        "df_hist = df.drop('diabetes',axis=1)\r\n",
        "df_hist.hist(layout=(4,2),figsize=(10,10))"
      ],
      "execution_count": 9,
      "outputs": [
        {
          "output_type": "execute_result",
          "data": {
            "text/plain": [
              "array([[<matplotlib.axes._subplots.AxesSubplot object at 0x7f646c586e80>,\n",
              "        <matplotlib.axes._subplots.AxesSubplot object at 0x7f646c547128>],\n",
              "       [<matplotlib.axes._subplots.AxesSubplot object at 0x7f646c4fd390>,\n",
              "        <matplotlib.axes._subplots.AxesSubplot object at 0x7f646c4af5f8>],\n",
              "       [<matplotlib.axes._subplots.AxesSubplot object at 0x7f646c4e3860>,\n",
              "        <matplotlib.axes._subplots.AxesSubplot object at 0x7f646c495ac8>],\n",
              "       [<matplotlib.axes._subplots.AxesSubplot object at 0x7f646c44bd30>,\n",
              "        <matplotlib.axes._subplots.AxesSubplot object at 0x7f646c3fef60>]],\n",
              "      dtype=object)"
            ]
          },
          "metadata": {
            "tags": []
          },
          "execution_count": 9
        },
        {
          "output_type": "display_data",
          "data": {
            "image/png": "[encoded data removed]",
            "text/plain": [
              "<Figure size 720x720 with 8 Axes>"
            ]
          },
          "metadata": {
            "tags": [],
            "needs_background": "light"
          }
        }
      ]
    },
    {
      "cell_type": "code",
      "metadata": {
        "colab": {
          "base_uri": "https://localhost:8080/"
        },
        "id": "SO95nUoMGsX6",
        "outputId": "6d520465-e585-4d38-abee-bf96545dc9bc"
      },
      "source": [
        "df.nunique()"
      ],
      "execution_count": 10,
      "outputs": [
        {
          "output_type": "execute_result",
          "data": {
            "text/plain": [
              "no_times_pregnant         17\n",
              "glucose_concentration    127\n",
              "blood_pressure            44\n",
              "skin_fold_thickness       50\n",
              "serum_insulin            163\n",
              "bmi                      237\n",
              "diabetes pedigree        439\n",
              "age                       52\n",
              "diabetes                   2\n",
              "dtype: int64"
            ]
          },
          "metadata": {
            "tags": []
          },
          "execution_count": 10
        }
      ]
    },
    {
      "cell_type": "code",
      "metadata": {
        "colab": {
          "base_uri": "https://localhost:8080/"
        },
        "id": "tee7gGj7KqDI",
        "outputId": "6df2919d-395e-495e-9183-a41025aa56cf"
      },
      "source": [
        "df['no_times_pregnant'].value_counts()"
      ],
      "execution_count": null,
      "outputs": [
        {
          "output_type": "execute_result",
          "data": {
            "text/plain": [
              "1     100\n",
              "0      90\n",
              "2      84\n",
              "3      65\n",
              "4      59\n",
              "6      42\n",
              "5      41\n",
              "7      32\n",
              "8      30\n",
              "9      25\n",
              "10     20\n",
              "11      9\n",
              "13      8\n",
              "12      6\n",
              "15      1\n",
              "14      1\n",
              "17      1\n",
              "Name: no_times_pregnant, dtype: int64"
            ]
          },
          "metadata": {
            "tags": []
          },
          "execution_count": 38
        }
      ]
    },
    {
      "cell_type": "code",
      "metadata": {
        "id": "_i-W1bf3Kyr7",
        "colab": {
          "base_uri": "https://localhost:8080/",
          "height": 296
        },
        "outputId": "438e8203-9ce0-4b0d-bfb4-e257827bbac6"
      },
      "source": [
        "sns.countplot(df['diabetes'])"
      ],
      "execution_count": 12,
      "outputs": [
        {
          "output_type": "execute_result",
          "data": {
            "text/plain": [
              "<matplotlib.axes._subplots.AxesSubplot at 0x7f6463d81a90>"
            ]
          },
          "metadata": {
            "tags": []
          },
          "execution_count": 12
        },
        {
          "output_type": "display_data",
          "data": {
            "image/png": "[encoded data removed]",
            "text/plain": [
              "<Figure size 432x288 with 1 Axes>"
            ]
          },
          "metadata": {
            "tags": [],
            "needs_background": "light"
          }
        }
      ]
    },
    {
      "cell_type": "markdown",
      "metadata": {
        "id": "zagafOpuSVlt"
      },
      "source": [
        "#### Check whether any zero values are present in the dataframe"
      ]
    },
    {
      "cell_type": "code",
      "metadata": {
        "colab": {
          "base_uri": "https://localhost:8080/"
        },
        "id": "5HNerWGEQfUa",
        "outputId": "8f1a6165-f562-4cd3-c691-8873f6a46624"
      },
      "source": [
        "print('No of rows with zero in serum_insulin:{0}'.format(len(df.loc[df['serum_insulin']==0])))\r\n",
        "print('No of rows with zero in glucose_concentration:{0}'.format(len(df.loc[df['glucose_concentration']==0])))\r\n",
        "print('No of rows with zero in blood_pressure:{0}'.format(len(df.loc[df['blood_pressure']==0])))\r\n",
        "print('No of rows with zero in skin_fold_thickness:{0}'.format(len(df.loc[df['skin_fold_thickness']==0])))\r\n",
        "print('No of rows with zero in bmi:{0}'.format(len(df.loc[df['bmi']==0])))\r\n",
        "print('No of rows with zero in diabetes pedigree:{0}'.format(len(df.loc[df['diabetes pedigree']==0])))\r\n",
        "print('No of rows with zero in age:{0}'.format(len(df.loc[df['age']==0])))"
      ],
      "execution_count": 22,
      "outputs": [
        {
          "output_type": "stream",
          "text": [
            "No of rows with zero in serum_insulin:304\n",
            "No of rows with zero in glucose_concentration:4\n",
            "No of rows with zero in blood_pressure:31\n",
            "No of rows with zero in skin_fold_thickness:187\n",
            "No of rows with zero in bmi:10\n",
            "No of rows with zero in diabetes pedigree:0\n",
            "No of rows with zero in age:0\n"
          ],
          "name": "stdout"
        }
      ]
    },
    {
      "cell_type": "markdown",
      "metadata": {
        "id": "PzTISvWYSgka"
      },
      "source": [
        "Fill the zero values with mean"
      ]
    },
    {
      "cell_type": "code",
      "metadata": {
        "id": "6OzJC3j8ZKJW"
      },
      "source": [
        "cols = ['serum_insulin','glucose_concentration','blood_pressure','skin_fold_thickness','bmi']\r\n",
        "\r\n",
        "for i in cols:\r\n",
        "  df[i]=df[i].mask(df[i]==0,df[i].mean())"
      ],
      "execution_count": 58,
      "outputs": []
    },
    {
      "cell_type": "code",
      "metadata": {
        "colab": {
          "base_uri": "https://localhost:8080/"
        },
        "id": "RGqkN_EZKWXV",
        "outputId": "547783bd-a8be-416a-b116-26b686deff2e"
      },
      "source": [
        "print('No of rows with zero in serum_insulin:{0}'.format(len(df_test.loc[df_test['serum_insulin']==0])))\r\n",
        "print('No of rows with zero in glucose_concentration:{0}'.format(len(df_test.loc[df_test['glucose_concentration']==0])))\r\n",
        "print('No of rows with zero in blood_pressure:{0}'.format(len(df_test.loc[df_test['blood_pressure']==0])))\r\n",
        "print('No of rows with zero in skin_fold_thickness:{0}'.format(len(df_test.loc[df_test['skin_fold_thickness']==0])))\r\n",
        "print('No of rows with zero in bmi:{0}'.format(len(df_test.loc[df_test['bmi']==0])))\r\n",
        "print('No of rows with zero in diabetes pedigree:{0}'.format(len(df_test.loc[df_test['diabetes pedigree']==0])))\r\n",
        "print('No of rows with zero in age:{0}'.format(len(df_test.loc[df_test['age']==0])))"
      ],
      "execution_count": 84,
      "outputs": [
        {
          "output_type": "stream",
          "text": [
            "No of rows with zero in serum_insulin:70\n",
            "No of rows with zero in glucose_concentration:1\n",
            "No of rows with zero in blood_pressure:4\n",
            "No of rows with zero in skin_fold_thickness:40\n",
            "No of rows with zero in bmi:1\n",
            "No of rows with zero in diabetes pedigree:0\n",
            "No of rows with zero in age:0\n"
          ],
          "name": "stdout"
        }
      ]
    },
    {
      "cell_type": "code",
      "metadata": {
        "id": "7sLn9qB2Koae"
      },
      "source": [
        "for i in cols:\r\n",
        "  df_test[i]=df_test[i].mask(df_test[i]==0,df_test[i].mean())"
      ],
      "execution_count": 85,
      "outputs": []
    },
    {
      "cell_type": "markdown",
      "metadata": {
        "id": "GqL4HNRRSkVq"
      },
      "source": [
        "## Import models"
      ]
    },
    {
      "cell_type": "code",
      "metadata": {
        "id": "D1D9dKSsgb8D"
      },
      "source": [
        "from sklearn.model_selection import train_test_split\r\n",
        "from sklearn.model_selection import RandomizedSearchCV\r\n",
        "from sklearn.ensemble import RandomForestClassifier\r\n",
        "from xgboost import XGBClassifier\r\n",
        "from sklearn.neighbors import KNeighborsClassifier\r\n",
        "from sklearn.model_selection import cross_val_score"
      ],
      "execution_count": 62,
      "outputs": []
    },
    {
      "cell_type": "code",
      "metadata": {
        "id": "RUaOfevhkCJd"
      },
      "source": [
        "X = df.drop('diabetes',axis=1)\r\n",
        "y = df['diabetes']"
      ],
      "execution_count": 63,
      "outputs": []
    },
    {
      "cell_type": "markdown",
      "metadata": {
        "id": "B3VYqK5XSnxu"
      },
      "source": [
        "Selecting the best model"
      ]
    },
    {
      "cell_type": "code",
      "metadata": {
        "colab": {
          "base_uri": "https://localhost:8080/"
        },
        "id": "2EIEqmw1qQSF",
        "outputId": "0d512205-0336-4353-cbd5-a518844c7d7e"
      },
      "source": [
        "clf = [KNeighborsClassifier(), RandomForestClassifier(,), XGBClassifier()]\r\n",
        "\r\n",
        "def score_calc():\r\n",
        "  for i in range (len(clf)):\r\n",
        "    score = cross_val_score(clf[i],X,y,cv=10)\r\n",
        "    print('Score of model', i,'is ',np.mean(score)*100)\r\n",
        "score_calc()"
      ],
      "execution_count": 67,
      "outputs": [
        {
          "output_type": "stream",
          "text": [
            "Score of model 0 is  73.76520359598096\n",
            "Score of model 1 is  77.20518244315177\n",
            "Score of model 2 is  76.05764145954521\n"
          ],
          "name": "stdout"
        }
      ]
    },
    {
      "cell_type": "markdown",
      "metadata": {
        "id": "cUYGrJkfSuZa"
      },
      "source": [
        "## Hyperparameter tuning\r\n",
        "\r\n",
        "In the above we got high accuracy in RandomForest, so we are doing hyperparameter tuning for that model"
      ]
    },
    {
      "cell_type": "code",
      "metadata": {
        "id": "t3-CxiqFqlmk"
      },
      "source": [
        "param = {'bootstrap': [True, False],\r\n",
        " 'max_depth': [10, 20, 30, 40, 50, 60, 70, 80, 90, 100, None],\r\n",
        " 'max_features': ['auto', 'sqrt'],\r\n",
        " 'min_samples_leaf': [1, 2, 4],\r\n",
        " 'min_samples_split': [2, 5, 10],\r\n",
        " 'n_estimators': [200, 400, 600, 800, 1000, 1200, 1400, 1600, 1800, 2000]}"
      ],
      "execution_count": 68,
      "outputs": []
    },
    {
      "cell_type": "code",
      "metadata": {
        "id": "t3VlYAYYr76G"
      },
      "source": [
        "est = RandomizedSearchCV(estimator=RandomForestClassifier(),param_distributions=param,scoring='accuracy',cv=10)"
      ],
      "execution_count": 69,
      "outputs": []
    },
    {
      "cell_type": "code",
      "metadata": {
        "colab": {
          "base_uri": "https://localhost:8080/"
        },
        "id": "M_F6eDOHsS42",
        "outputId": "f29eea82-1aca-44c5-9740-4006fc91de15"
      },
      "source": [
        "model = est.fit(X,y)\r\n",
        "model.best_estimator_"
      ],
      "execution_count": 71,
      "outputs": [
        {
          "output_type": "execute_result",
          "data": {
            "text/plain": [
              "RandomForestClassifier(bootstrap=True, ccp_alpha=0.0, class_weight=None,\n",
              "                       criterion='gini', max_depth=30, max_features='auto',\n",
              "                       max_leaf_nodes=None, max_samples=None,\n",
              "                       min_impurity_decrease=0.0, min_impurity_split=None,\n",
              "                       min_samples_leaf=4, min_samples_split=10,\n",
              "                       min_weight_fraction_leaf=0.0, n_estimators=1000,\n",
              "                       n_jobs=None, oob_score=False, random_state=None,\n",
              "                       verbose=0, warm_start=False)"
            ]
          },
          "metadata": {
            "tags": []
          },
          "execution_count": 71
        }
      ]
    },
    {
      "cell_type": "code",
      "metadata": {
        "colab": {
          "base_uri": "https://localhost:8080/"
        },
        "id": "PIRQ0UOdsX0V",
        "outputId": "4f367320-f72c-4417-c22b-aeb346e1f7b3"
      },
      "source": [
        "classifier = RandomForestClassifier(bootstrap=True, ccp_alpha=0.0, class_weight=None,\r\n",
        "                       criterion='gini', max_depth=30, max_features='auto',\r\n",
        "                       max_leaf_nodes=None, max_samples=None,\r\n",
        "                       min_impurity_decrease=0.0, min_impurity_split=None,\r\n",
        "                       min_samples_leaf=4, min_samples_split=10,\r\n",
        "                       min_weight_fraction_leaf=0.0, n_estimators=1000,\r\n",
        "                       n_jobs=None, oob_score=False, random_state=None,\r\n",
        "                       verbose=0, warm_start=False)\r\n",
        "score = cross_val_score(classifier, X, y,cv=10)\r\n",
        "score.mean()"
      ],
      "execution_count": 74,
      "outputs": [
        {
          "output_type": "execute_result",
          "data": {
            "text/plain": [
              "0.7785034373347435"
            ]
          },
          "metadata": {
            "tags": []
          },
          "execution_count": 74
        }
      ]
    },
    {
      "cell_type": "code",
      "metadata": {
        "id": "ysT7U1p3udA-"
      },
      "source": [
        "X_train, X_test, y_train, y_test = train_test_split(X,y,test_size=0.33)"
      ],
      "execution_count": 75,
      "outputs": []
    },
    {
      "cell_type": "code",
      "metadata": {
        "id": "h4TrJV-wvDan"
      },
      "source": [
        "classifier.fit(X_train, y_train)\r\n",
        "y_pred = classifier.predict(X_test)"
      ],
      "execution_count": 76,
      "outputs": []
    },
    {
      "cell_type": "markdown",
      "metadata": {
        "id": "sGyp3rTzS9fI"
      },
      "source": [
        "#### Check the accuracy and confusion matrix"
      ]
    },
    {
      "cell_type": "code",
      "metadata": {
        "id": "b6gXjp-8vghV"
      },
      "source": [
        "from sklearn.metrics import confusion_matrix, accuracy_score"
      ],
      "execution_count": 77,
      "outputs": []
    },
    {
      "cell_type": "code",
      "metadata": {
        "colab": {
          "base_uri": "https://localhost:8080/"
        },
        "id": "P4RITGYzvRRy",
        "outputId": "2bb91432-167e-4b40-b9bb-bb771948a3b0"
      },
      "source": [
        "acc_score = accuracy_score(y_pred,y_test)\r\n",
        "cm = confusion_matrix(y_pred, y_test)\r\n",
        "print(cm)\r\n",
        "print(acc_score)"
      ],
      "execution_count": 78,
      "outputs": [
        {
          "output_type": "stream",
          "text": [
            "[[131  17]\n",
            " [ 13  42]]\n",
            "0.8522167487684729\n"
          ],
          "name": "stdout"
        }
      ]
    },
    {
      "cell_type": "code",
      "metadata": {
        "colab": {
          "base_uri": "https://localhost:8080/"
        },
        "id": "lQdLN9mbvxz7",
        "outputId": "ca1210df-555c-4a32-8933-f3d01a11364e"
      },
      "source": [
        "prediction = df_test.drop('p_id',axis=1)\r\n",
        "submission = classifier.predict(prediction)\r\n",
        "submission"
      ],
      "execution_count": 86,
      "outputs": [
        {
          "output_type": "execute_result",
          "data": {
            "text/plain": [
              "array([1, 0, 1, 1, 0, 0, 1, 0, 0, 0, 1, 0, 1, 0, 1, 0, 0, 0, 1, 1, 0, 0,\n",
              "       0, 1, 0, 0, 0, 0, 0, 0, 0, 0, 0, 0, 1, 0, 0, 1, 0, 0, 0, 1, 0, 1,\n",
              "       0, 0, 1, 1, 1, 0, 1, 0, 1, 1, 0, 0, 0, 1, 0, 0, 1, 0, 0, 1, 1, 1,\n",
              "       0, 0, 0, 0, 1, 1, 1, 0, 0, 0, 0, 0, 0, 0, 1, 1, 0, 0, 0, 0, 0, 1,\n",
              "       0, 0, 0, 0, 1, 1, 1, 0, 0, 0, 0, 0, 1, 1, 0, 0, 1, 1, 0, 0, 0, 0,\n",
              "       1, 1, 0, 1, 0, 1, 1, 0, 0, 0, 1, 0, 1, 1, 0, 1, 0, 0, 1, 0, 0, 0,\n",
              "       1, 0, 1, 1, 1, 0, 0, 0, 0, 0, 0, 0, 1, 0, 0, 1, 1, 0, 1, 0, 0, 1])"
            ]
          },
          "metadata": {
            "tags": []
          },
          "execution_count": 86
        }
      ]
    },
    {
      "cell_type": "code",
      "metadata": {
        "colab": {
          "base_uri": "https://localhost:8080/",
          "height": 204
        },
        "id": "NplBVX7rwjIP",
        "outputId": "83d8f2b3-dcc8-47cb-b60f-099b3ae5102a"
      },
      "source": [
        "df_test['diabetes'] = submission\r\n",
        "sub = df_test[['p_id','diabetes']]\r\n",
        "sub.head()"
      ],
      "execution_count": 102,
      "outputs": [
        {
          "output_type": "execute_result",
          "data": {
            "text/html": [
              "<div>\n",
              "<style scoped>\n",
              "    .dataframe tbody tr th:only-of-type {\n",
              "        vertical-align: middle;\n",
              "    }\n",
              "\n",
              "    .dataframe tbody tr th {\n",
              "        vertical-align: top;\n",
              "    }\n",
              "\n",
              "    .dataframe thead th {\n",
              "        text-align: right;\n",
              "    }\n",
              "</style>\n",
              "<table border=\"1\" class=\"dataframe\">\n",
              "  <thead>\n",
              "    <tr style=\"text-align: right;\">\n",
              "      <th></th>\n",
              "      <th>p_id</th>\n",
              "      <th>diabetes</th>\n",
              "    </tr>\n",
              "  </thead>\n",
              "  <tbody>\n",
              "    <tr>\n",
              "      <th>0</th>\n",
              "      <td>437</td>\n",
              "      <td>1</td>\n",
              "    </tr>\n",
              "    <tr>\n",
              "      <th>1</th>\n",
              "      <td>411</td>\n",
              "      <td>0</td>\n",
              "    </tr>\n",
              "    <tr>\n",
              "      <th>2</th>\n",
              "      <td>639</td>\n",
              "      <td>1</td>\n",
              "    </tr>\n",
              "    <tr>\n",
              "      <th>3</th>\n",
              "      <td>213</td>\n",
              "      <td>1</td>\n",
              "    </tr>\n",
              "    <tr>\n",
              "      <th>4</th>\n",
              "      <td>181</td>\n",
              "      <td>0</td>\n",
              "    </tr>\n",
              "  </tbody>\n",
              "</table>\n",
              "</div>"
            ],
            "text/plain": [
              "   p_id  diabetes\n",
              "0   437         1\n",
              "1   411         0\n",
              "2   639         1\n",
              "3   213         1\n",
              "4   181         0"
            ]
          },
          "metadata": {
            "tags": []
          },
          "execution_count": 102
        }
      ]
    },
    {
      "cell_type": "code",
      "metadata": {
        "id": "M_G_FkuHPYYn"
      },
      "source": [
        "sub.to_csv('Submission.csv',index=False)"
      ],
      "execution_count": 103,
      "outputs": []
    }
  ]
}