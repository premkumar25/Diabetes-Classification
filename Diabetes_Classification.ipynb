{
  "nbformat": 4,
  "nbformat_minor": 0,
  "metadata": {
    "colab": {
      "name": "Diabetes_Classification.ipynb",
      "provenance": [],
      "authorship_tag": "ABX9TyN+qCpU4wT3QsfwKWWUH5wI"
    },
    "kernelspec": {
      "name": "python3",
      "display_name": "Python 3"
    }
  },
  "cells": [
    {
      "cell_type": "code",
      "metadata": {
        "id": "FWvxLWPyDP--"
      },
      "source": [
        "import pandas as pd\r\n",
        "import numpy as np\r\n",
        "import seaborn as sns\r\n",
        "import matplotlib.pyplot as plt\r\n",
        "import warnings\r\n",
        "%matplotlib inline\r\n",
        "warnings.filterwarnings('ignore')"
      ],
      "execution_count": 1,
      "outputs": []
    },
    {
      "cell_type": "code",
      "metadata": {
        "colab": {
          "base_uri": "https://localhost:8080/",
          "height": 235
        },
        "id": "ryHX0gRhDz15",
        "outputId": "ffe5df2c-85ad-4c35-ad5e-d9b3cde0a116"
      },
      "source": [
        "df = pd.read_csv('train.csv', index_col='p_id')\r\n",
        "df.head()"
      ],
      "execution_count": 9,
      "outputs": [
        {
          "output_type": "execute_result",
          "data": {
            "text/html": [
              "<div>\n",
              "<style scoped>\n",
              "    .dataframe tbody tr th:only-of-type {\n",
              "        vertical-align: middle;\n",
              "    }\n",
              "\n",
              "    .dataframe tbody tr th {\n",
              "        vertical-align: top;\n",
              "    }\n",
              "\n",
              "    .dataframe thead th {\n",
              "        text-align: right;\n",
              "    }\n",
              "</style>\n",
              "<table border=\"1\" class=\"dataframe\">\n",
              "  <thead>\n",
              "    <tr style=\"text-align: right;\">\n",
              "      <th></th>\n",
              "      <th>no_times_pregnant</th>\n",
              "      <th>glucose_concentration</th>\n",
              "      <th>blood_pressure</th>\n",
              "      <th>skin_fold_thickness</th>\n",
              "      <th>serum_insulin</th>\n",
              "      <th>bmi</th>\n",
              "      <th>diabetes pedigree</th>\n",
              "      <th>age</th>\n",
              "      <th>diabetes</th>\n",
              "    </tr>\n",
              "    <tr>\n",
              "      <th>p_id</th>\n",
              "      <th></th>\n",
              "      <th></th>\n",
              "      <th></th>\n",
              "      <th></th>\n",
              "      <th></th>\n",
              "      <th></th>\n",
              "      <th></th>\n",
              "      <th></th>\n",
              "      <th></th>\n",
              "    </tr>\n",
              "  </thead>\n",
              "  <tbody>\n",
              "    <tr>\n",
              "      <th>316</th>\n",
              "      <td>2</td>\n",
              "      <td>112</td>\n",
              "      <td>68</td>\n",
              "      <td>22</td>\n",
              "      <td>94</td>\n",
              "      <td>34.1</td>\n",
              "      <td>0.315</td>\n",
              "      <td>26</td>\n",
              "      <td>0</td>\n",
              "    </tr>\n",
              "    <tr>\n",
              "      <th>25</th>\n",
              "      <td>11</td>\n",
              "      <td>143</td>\n",
              "      <td>94</td>\n",
              "      <td>33</td>\n",
              "      <td>146</td>\n",
              "      <td>36.6</td>\n",
              "      <td>0.254</td>\n",
              "      <td>51</td>\n",
              "      <td>1</td>\n",
              "    </tr>\n",
              "    <tr>\n",
              "      <th>710</th>\n",
              "      <td>2</td>\n",
              "      <td>93</td>\n",
              "      <td>64</td>\n",
              "      <td>32</td>\n",
              "      <td>160</td>\n",
              "      <td>38.0</td>\n",
              "      <td>0.674</td>\n",
              "      <td>23</td>\n",
              "      <td>1</td>\n",
              "    </tr>\n",
              "    <tr>\n",
              "      <th>658</th>\n",
              "      <td>1</td>\n",
              "      <td>120</td>\n",
              "      <td>80</td>\n",
              "      <td>48</td>\n",
              "      <td>200</td>\n",
              "      <td>38.9</td>\n",
              "      <td>1.162</td>\n",
              "      <td>41</td>\n",
              "      <td>0</td>\n",
              "    </tr>\n",
              "    <tr>\n",
              "      <th>542</th>\n",
              "      <td>3</td>\n",
              "      <td>128</td>\n",
              "      <td>72</td>\n",
              "      <td>25</td>\n",
              "      <td>190</td>\n",
              "      <td>32.4</td>\n",
              "      <td>0.549</td>\n",
              "      <td>27</td>\n",
              "      <td>1</td>\n",
              "    </tr>\n",
              "  </tbody>\n",
              "</table>\n",
              "</div>"
            ],
            "text/plain": [
              "      no_times_pregnant  glucose_concentration  ...  age  diabetes\n",
              "p_id                                            ...               \n",
              "316                   2                    112  ...   26         0\n",
              "25                   11                    143  ...   51         1\n",
              "710                   2                     93  ...   23         1\n",
              "658                   1                    120  ...   41         0\n",
              "542                   3                    128  ...   27         1\n",
              "\n",
              "[5 rows x 9 columns]"
            ]
          },
          "metadata": {
            "tags": []
          },
          "execution_count": 9
        }
      ]
    },
    {
      "cell_type": "code",
      "metadata": {
        "colab": {
          "base_uri": "https://localhost:8080/"
        },
        "id": "d4EJAsVuD6QG",
        "outputId": "c1e7e2f9-7803-4b43-c181-6c64d623f9e8"
      },
      "source": [
        "df.info()"
      ],
      "execution_count": 10,
      "outputs": [
        {
          "output_type": "stream",
          "text": [
            "<class 'pandas.core.frame.DataFrame'>\n",
            "Int64Index: 614 entries, 316 to 603\n",
            "Data columns (total 9 columns):\n",
            " #   Column                 Non-Null Count  Dtype  \n",
            "---  ------                 --------------  -----  \n",
            " 0   no_times_pregnant      614 non-null    int64  \n",
            " 1   glucose_concentration  614 non-null    int64  \n",
            " 2   blood_pressure         614 non-null    int64  \n",
            " 3   skin_fold_thickness    614 non-null    int64  \n",
            " 4   serum_insulin          614 non-null    int64  \n",
            " 5   bmi                    614 non-null    float64\n",
            " 6   diabetes pedigree      614 non-null    float64\n",
            " 7   age                    614 non-null    int64  \n",
            " 8   diabetes               614 non-null    int64  \n",
            "dtypes: float64(2), int64(7)\n",
            "memory usage: 48.0 KB\n"
          ],
          "name": "stdout"
        }
      ]
    },
    {
      "cell_type": "code",
      "metadata": {
        "colab": {
          "base_uri": "https://localhost:8080/"
        },
        "id": "Pfz1zrl4D9N3",
        "outputId": "4eb4b7d2-031e-4078-a829-89a2fd9d1976"
      },
      "source": [
        "df.isnull().sum()"
      ],
      "execution_count": 4,
      "outputs": [
        {
          "output_type": "execute_result",
          "data": {
            "text/plain": [
              "p_id                     0\n",
              "no_times_pregnant        0\n",
              "glucose_concentration    0\n",
              "blood_pressure           0\n",
              "skin_fold_thickness      0\n",
              "serum_insulin            0\n",
              "bmi                      0\n",
              "diabetes pedigree        0\n",
              "age                      0\n",
              "diabetes                 0\n",
              "dtype: int64"
            ]
          },
          "metadata": {
            "tags": []
          },
          "execution_count": 4
        }
      ]
    },
    {
      "cell_type": "code",
      "metadata": {
        "colab": {
          "base_uri": "https://localhost:8080/",
          "height": 235
        },
        "id": "DIJpb702EBaD",
        "outputId": "d7a2482e-1e5c-4d57-a387-ba71f4b5ebb4"
      },
      "source": [
        "df_test=pd.read_csv('test.csv',index_col='p_id')\r\n",
        "df_test.head()"
      ],
      "execution_count": 11,
      "outputs": [
        {
          "output_type": "execute_result",
          "data": {
            "text/html": [
              "<div>\n",
              "<style scoped>\n",
              "    .dataframe tbody tr th:only-of-type {\n",
              "        vertical-align: middle;\n",
              "    }\n",
              "\n",
              "    .dataframe tbody tr th {\n",
              "        vertical-align: top;\n",
              "    }\n",
              "\n",
              "    .dataframe thead th {\n",
              "        text-align: right;\n",
              "    }\n",
              "</style>\n",
              "<table border=\"1\" class=\"dataframe\">\n",
              "  <thead>\n",
              "    <tr style=\"text-align: right;\">\n",
              "      <th></th>\n",
              "      <th>no_times_pregnant</th>\n",
              "      <th>glucose_concentration</th>\n",
              "      <th>blood_pressure</th>\n",
              "      <th>skin_fold_thickness</th>\n",
              "      <th>serum_insulin</th>\n",
              "      <th>bmi</th>\n",
              "      <th>diabetes pedigree</th>\n",
              "      <th>age</th>\n",
              "    </tr>\n",
              "    <tr>\n",
              "      <th>p_id</th>\n",
              "      <th></th>\n",
              "      <th></th>\n",
              "      <th></th>\n",
              "      <th></th>\n",
              "      <th></th>\n",
              "      <th></th>\n",
              "      <th></th>\n",
              "      <th></th>\n",
              "    </tr>\n",
              "  </thead>\n",
              "  <tbody>\n",
              "    <tr>\n",
              "      <th>437</th>\n",
              "      <td>12</td>\n",
              "      <td>140</td>\n",
              "      <td>85</td>\n",
              "      <td>33</td>\n",
              "      <td>0</td>\n",
              "      <td>37.4</td>\n",
              "      <td>0.244</td>\n",
              "      <td>41</td>\n",
              "    </tr>\n",
              "    <tr>\n",
              "      <th>411</th>\n",
              "      <td>6</td>\n",
              "      <td>102</td>\n",
              "      <td>90</td>\n",
              "      <td>39</td>\n",
              "      <td>0</td>\n",
              "      <td>35.7</td>\n",
              "      <td>0.674</td>\n",
              "      <td>28</td>\n",
              "    </tr>\n",
              "    <tr>\n",
              "      <th>639</th>\n",
              "      <td>7</td>\n",
              "      <td>97</td>\n",
              "      <td>76</td>\n",
              "      <td>32</td>\n",
              "      <td>91</td>\n",
              "      <td>40.9</td>\n",
              "      <td>0.871</td>\n",
              "      <td>32</td>\n",
              "    </tr>\n",
              "    <tr>\n",
              "      <th>213</th>\n",
              "      <td>7</td>\n",
              "      <td>179</td>\n",
              "      <td>95</td>\n",
              "      <td>31</td>\n",
              "      <td>0</td>\n",
              "      <td>34.2</td>\n",
              "      <td>0.164</td>\n",
              "      <td>60</td>\n",
              "    </tr>\n",
              "    <tr>\n",
              "      <th>181</th>\n",
              "      <td>6</td>\n",
              "      <td>87</td>\n",
              "      <td>80</td>\n",
              "      <td>0</td>\n",
              "      <td>0</td>\n",
              "      <td>23.2</td>\n",
              "      <td>0.084</td>\n",
              "      <td>32</td>\n",
              "    </tr>\n",
              "  </tbody>\n",
              "</table>\n",
              "</div>"
            ],
            "text/plain": [
              "      no_times_pregnant  glucose_concentration  ...  diabetes pedigree  age\n",
              "p_id                                            ...                        \n",
              "437                  12                    140  ...              0.244   41\n",
              "411                   6                    102  ...              0.674   28\n",
              "639                   7                     97  ...              0.871   32\n",
              "213                   7                    179  ...              0.164   60\n",
              "181                   6                     87  ...              0.084   32\n",
              "\n",
              "[5 rows x 8 columns]"
            ]
          },
          "metadata": {
            "tags": []
          },
          "execution_count": 11
        }
      ]
    },
    {
      "cell_type": "code",
      "metadata": {
        "colab": {
          "base_uri": "https://localhost:8080/"
        },
        "id": "PQmT8tE-EO0c",
        "outputId": "e89eceb8-15fc-4f79-e12e-f8fc8c0c3c87"
      },
      "source": [
        "df_test.info()"
      ],
      "execution_count": 6,
      "outputs": [
        {
          "output_type": "stream",
          "text": [
            "<class 'pandas.core.frame.DataFrame'>\n",
            "RangeIndex: 154 entries, 0 to 153\n",
            "Data columns (total 9 columns):\n",
            " #   Column                 Non-Null Count  Dtype  \n",
            "---  ------                 --------------  -----  \n",
            " 0   p_id                   154 non-null    int64  \n",
            " 1   no_times_pregnant      154 non-null    int64  \n",
            " 2   glucose_concentration  154 non-null    int64  \n",
            " 3   blood_pressure         154 non-null    int64  \n",
            " 4   skin_fold_thickness    154 non-null    int64  \n",
            " 5   serum_insulin          154 non-null    int64  \n",
            " 6   bmi                    154 non-null    float64\n",
            " 7   diabetes pedigree      154 non-null    float64\n",
            " 8   age                    154 non-null    int64  \n",
            "dtypes: float64(2), int64(7)\n",
            "memory usage: 11.0 KB\n"
          ],
          "name": "stdout"
        }
      ]
    },
    {
      "cell_type": "code",
      "metadata": {
        "colab": {
          "base_uri": "https://localhost:8080/"
        },
        "id": "E-l2JvaOERZs",
        "outputId": "938ed7d6-9295-4774-99af-7c578d5e13a3"
      },
      "source": [
        "df_test.isnull().sum()"
      ],
      "execution_count": 7,
      "outputs": [
        {
          "output_type": "execute_result",
          "data": {
            "text/plain": [
              "p_id                     0\n",
              "no_times_pregnant        0\n",
              "glucose_concentration    0\n",
              "blood_pressure           0\n",
              "skin_fold_thickness      0\n",
              "serum_insulin            0\n",
              "bmi                      0\n",
              "diabetes pedigree        0\n",
              "age                      0\n",
              "dtype: int64"
            ]
          },
          "metadata": {
            "tags": []
          },
          "execution_count": 7
        }
      ]
    },
    {
      "cell_type": "code",
      "metadata": {
        "colab": {
          "base_uri": "https://localhost:8080/",
          "height": 606
        },
        "id": "HlVoNLGxEVkA",
        "outputId": "12bce94e-c22d-4306-c91d-bba1c5ca52fe"
      },
      "source": [
        "df_corr = df.corr()\r\n",
        "corr_feature = df_corr.index\r\n",
        "plt.figure(figsize=(10,8))\r\n",
        "sns.heatmap(df_corr[corr_feature], annot=True)"
      ],
      "execution_count": 13,
      "outputs": [
        {
          "output_type": "execute_result",
          "data": {
            "text/plain": [
              "<matplotlib.axes._subplots.AxesSubplot at 0x7f11bf106c18>"
            ]
          },
          "metadata": {
            "tags": []
          },
          "execution_count": 13
        },
        {
          "output_type": "display_data",
          "data": {
            "image/png": "[encoded data removed]",
            "text/plain": [
              "<Figure size 720x576 with 2 Axes>"
            ]
          },
          "metadata": {
            "tags": [],
            "needs_background": "light"
          }
        }
      ]
    },
    {
      "cell_type": "code",
      "metadata": {
        "colab": {
          "base_uri": "https://localhost:8080/",
          "height": 760
        },
        "id": "JFbwAVnQElzp",
        "outputId": "e045913b-23d6-4719-fb0b-e38a3f55a4ad"
      },
      "source": [
        "df_hist = df.drop('diabetes',axis=1)\r\n",
        "df_hist.hist(layout=(4,2),figsize=(10,10))"
      ],
      "execution_count": 32,
      "outputs": [
        {
          "output_type": "execute_result",
          "data": {
            "text/plain": [
              "array([[<matplotlib.axes._subplots.AxesSubplot object at 0x7f11ad30c4e0>,\n",
              "        <matplotlib.axes._subplots.AxesSubplot object at 0x7f11ad243208>],\n",
              "       [<matplotlib.axes._subplots.AxesSubplot object at 0x7f11ad1ffe80>,\n",
              "        <matplotlib.axes._subplots.AxesSubplot object at 0x7f11ad23b240>],\n",
              "       [<matplotlib.axes._subplots.AxesSubplot object at 0x7f11ad1ee5c0>,\n",
              "        <matplotlib.axes._subplots.AxesSubplot object at 0x7f11ad19d940>],\n",
              "       [<matplotlib.axes._subplots.AxesSubplot object at 0x7f11ad150cc0>,\n",
              "        <matplotlib.axes._subplots.AxesSubplot object at 0x7f11ad110080>]],\n",
              "      dtype=object)"
            ]
          },
          "metadata": {
            "tags": []
          },
          "execution_count": 32
        },
        {
          "output_type": "display_data",
          "data": {
            "image/png": "[encoded data removed]",
            "text/plain": [
              "<Figure size 720x720 with 8 Axes>"
            ]
          },
          "metadata": {
            "tags": [],
            "needs_background": "light"
          }
        }
      ]
    },
    {
      "cell_type": "code",
      "metadata": {
        "colab": {
          "base_uri": "https://localhost:8080/"
        },
        "id": "SO95nUoMGsX6",
        "outputId": "df9aba0d-42f2-4d63-ade1-16f7a71d96b8"
      },
      "source": [
        "df.nunique()"
      ],
      "execution_count": 33,
      "outputs": [
        {
          "output_type": "execute_result",
          "data": {
            "text/plain": [
              "no_times_pregnant         17\n",
              "glucose_concentration    127\n",
              "blood_pressure            44\n",
              "skin_fold_thickness       50\n",
              "serum_insulin            163\n",
              "bmi                      237\n",
              "diabetes pedigree        439\n",
              "age                       52\n",
              "diabetes                   2\n",
              "dtype: int64"
            ]
          },
          "metadata": {
            "tags": []
          },
          "execution_count": 33
        }
      ]
    },
    {
      "cell_type": "code",
      "metadata": {
        "colab": {
          "base_uri": "https://localhost:8080/"
        },
        "id": "tee7gGj7KqDI",
        "outputId": "6df2919d-395e-495e-9183-a41025aa56cf"
      },
      "source": [
        "df['no_times_pregnant'].value_counts()"
      ],
      "execution_count": 38,
      "outputs": [
        {
          "output_type": "execute_result",
          "data": {
            "text/plain": [
              "1     100\n",
              "0      90\n",
              "2      84\n",
              "3      65\n",
              "4      59\n",
              "6      42\n",
              "5      41\n",
              "7      32\n",
              "8      30\n",
              "9      25\n",
              "10     20\n",
              "11      9\n",
              "13      8\n",
              "12      6\n",
              "15      1\n",
              "14      1\n",
              "17      1\n",
              "Name: no_times_pregnant, dtype: int64"
            ]
          },
          "metadata": {
            "tags": []
          },
          "execution_count": 38
        }
      ]
    },
    {
      "cell_type": "code",
      "metadata": {
        "id": "_i-W1bf3Kyr7"
      },
      "source": [
        ""
      ],
      "execution_count": null,
      "outputs": []
    }
  ]
}